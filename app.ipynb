{
 "cells": [
  {
   "cell_type": "code",
   "execution_count": 726,
   "metadata": {},
   "outputs": [],
   "source": [
    "from sklearn.pipeline import Pipeline\n",
    "from sklearn.base import BaseEstimator, TransformerMixin, RegressorMixin\n",
    "from sklearn.linear_model import LinearRegression, LogisticRegression\n",
    "import pandas as pd\n",
    "import numpy as np\n",
    "import tensorflow as tf"
   ]
  },
  {
   "cell_type": "code",
   "execution_count": 727,
   "metadata": {},
   "outputs": [],
   "source": [
    "file_path = \"weatherAUS.csv\"\n",
    "df0 = pd.read_csv(file_path, sep=\",\", engine=\"python\")\n",
    "df = df0.copy()\n",
    "ciudades = [\n",
    "    \" Adelaide\",\n",
    "    \"Canberra\",\n",
    "    \"Cobar\",\n",
    "    \"Dartmoor\",\n",
    "    \"Melbourne\",\n",
    "    \"MelbourneAirport\",\n",
    "    \"MountGambier\",\n",
    "    \"Sydney\",\n",
    "    \"SydneyAirport\",\n",
    "]  \n",
    "# Filtrar por ciudades\n",
    "df = df[df[\"Location\"].isin(ciudades)]\n",
    "df = df.drop(\"Location\", axis=1)\n",
    "# X\n",
    "X = df.drop(['RainTomorrow', 'RainfallTomorrow', 'Unnamed: 0'], axis=1)\n",
    "# y\n",
    "# y = df[[\"RainfallTomorrow\"]]\n",
    "y = df[[\"RainTomorrow\"]]"
   ]
  },
  {
   "cell_type": "code",
   "execution_count": 728,
   "metadata": {},
   "outputs": [],
   "source": [
    "# Rellenar valores faltantes de RainFallTomorrow\n",
    "# mediana = y['RainfallTomorrow'].median()\n",
    "# # Rellenar NaN con la mediana\n",
    "# y = y['RainfallTomorrow'].fillna(mediana)\n",
    "# y.isna().sum()\n",
    "\n",
    "mode = y['RainTomorrow'].mode()[0]\n",
    "y = y['RainTomorrow'].fillna(mode)\n",
    "# y.replace({'Yes': 1, 'No': 0}, inplace=True)\n",
    "# y['RainTomorrow'] = y['RainTomorrow'].astype(int)"
   ]
  },
  {
   "cell_type": "code",
   "execution_count": 729,
   "metadata": {},
   "outputs": [],
   "source": [
    "X = X.drop(['WindGustDir', 'WindDir9am', 'WindDir3pm', 'RainToday'], axis=1)"
   ]
  },
  {
   "cell_type": "code",
   "execution_count": 730,
   "metadata": {},
   "outputs": [],
   "source": [
    "class NeuralNetworkTensorFlowOpt(BaseEstimator, RegressorMixin):\n",
    "    def __init__(self, num_layers=3, n_units_layer_0=54, n_units_layer_1=95, lr=0.001, epochs=50):\n",
    "        self.num_layers = num_layers\n",
    "        self.n_units_layer_0 = n_units_layer_0\n",
    "        self.n_units_layer_1 = n_units_layer_1\n",
    "        self.lr = lr\n",
    "        self.epochs = epochs\n",
    "        self.model = self.build_model()\n",
    "\n",
    "    def build_model(self):\n",
    "        model = tf.keras.Sequential()\n",
    "        model.add(tf.keras.layers.Dense(self.n_units_layer_0, activation='sigmoid', input_shape=(17,)))\n",
    "\n",
    "        for _ in range(1, self.num_layers):\n",
    "            model.add(tf.keras.layers.Dense(self.n_units_layer_1, activation='sigmoid'))\n",
    "\n",
    "        model.add(tf.keras.layers.Dense(1, activation='sigmoid'))\n",
    "\n",
    "        model.compile(optimizer=tf.keras.optimizers.Adam(learning_rate=self.lr), \n",
    "                      loss='mean_squared_error')\n",
    "        return model\n",
    "    \n",
    "    def fit(self, X, y):\n",
    "        X = np.array(X)\n",
    "        y = np.array(y)\n",
    "        self.history = self.model.fit(X, y, epochs=self.epochs, verbose=0)\n",
    "        return self\n",
    "\n",
    "    def predict(self, X):\n",
    "        X = np.array(X)\n",
    "        predictions = self.model.predict(X)\n",
    "        return predictions\n",
    "    \n",
    "    def score(self, X, y):\n",
    "        X = np.array(X)\n",
    "        y = np.array(y)\n",
    "        return self.model.evaluate(X, y, verbose=0)\n"
   ]
  },
  {
   "cell_type": "code",
   "execution_count": 731,
   "metadata": {},
   "outputs": [],
   "source": [
    "class TransformData20(BaseEstimator, TransformerMixin):\n",
    "    def __init__(self):\n",
    "        pass\n",
    "        \n",
    "    def fit(self, X, y):\n",
    "        return self  # No se necesita hacer ningún ajuste en el fit para este caso\n",
    "    \n",
    "    def transform(self, X, y=None):        \n",
    "        # Eliminar columna \"Unnamed: 0\"\n",
    "        if 'Unnamed: 0' in X.columns:\n",
    "            X = X.drop(\"Unnamed: 0\", axis=1)\n",
    "        \n",
    "        # Convertir la fecha a datetime\n",
    "        X['Date'] = pd.to_datetime(X['Date'])\n",
    "        \n",
    "        # Determinar bimestre\n",
    "        X['Bimestre'] = X['Date'].apply(self.determinar_bimestre)\n",
    "        \n",
    "        # Rellenar valores faltantes de Rainfall\n",
    "        mediana_por_dia = X.groupby(X[\"Date\"].dt.date)[\"Rainfall\"].median()\n",
    "        X[\"Rainfall\"] = X.apply(\n",
    "            lambda row: mediana_por_dia[row[\"Date\"].date()] if pd.isnull(row[\"Rainfall\"]) else row[\"Rainfall\"],\n",
    "            axis=1,\n",
    "        )\n",
    "        \n",
    "        # Rellenar valores faltantes de Evaporation por bimestre\n",
    "        medianas_evaporation = X.groupby(\"Bimestre\")[\"Evaporation\"].median()\n",
    "        for bimestre, median in medianas_evaporation.items():\n",
    "            X.loc[(X[\"Bimestre\"] == bimestre) & (X[\"Evaporation\"].isnull()), \"Evaporation\"] = median\n",
    "        \n",
    "        # Rellenar valores faltantes de Sunshine por día\n",
    "        X['Sunshine'] = X.groupby(X['Date'].dt.day)[\"Sunshine\"].transform(lambda x: x.fillna(x.mean()))\n",
    "\n",
    "        # Rellenar valores faltantes de WindDir por día\n",
    "        # X[\"WindGustDir\"] = X.groupby(X[\"Date\"].dt.day)[\n",
    "        #     \"WindGustDir\"\n",
    "        # ].transform(lambda x: x.fillna(x.mode().iloc[0]))\n",
    "        # X[\"WindDir9am\"] = X.groupby(X[\"Date\"].dt.day)[\n",
    "        #     \"WindDir9am\"\n",
    "        # ].transform(lambda x: x.fillna(x.mode().iloc[0]))\n",
    "        # X[\"WindDir3pm\"] = X.groupby(X[\"Date\"].dt.day)[\n",
    "        #     \"WindDir3pm\"\n",
    "        # ].transform(lambda x: x.fillna(x.mode().iloc[0]))\n",
    "        \n",
    "        # Rellenar valores faltantes de WindSpeed, Humidity, Cloud, Pressure, Temp por día\n",
    "        columns_to_fillna = ['WindGustSpeed', 'WindSpeed9am', 'WindSpeed3pm', 'Humidity9am', 'Humidity3pm', 'Cloud9am',\n",
    "                             'Cloud3pm', 'Pressure9am', 'Pressure3pm', 'MinTemp', 'MaxTemp', 'Temp9am', 'Temp3pm']\n",
    "        \n",
    "        for column in columns_to_fillna:\n",
    "            if column in X.columns:\n",
    "                X[column] = X.groupby(X['Date'].dt.day)[column].transform(lambda x: x.fillna(x.median()))\n",
    "        \n",
    "        # Rellenar valores faltantes de RainToday con la moda y pasarlo a 1 y 0\n",
    "        # moda_RainToday = X.groupby(\"Date\")[\"RainToday\"].transform(\n",
    "        #     lambda x: x.mode().iloc[0] if not x.mode().empty else None\n",
    "        # )\n",
    "        # X[\"RainToday\"] = X[\"RainToday\"].fillna(moda_RainToday)\n",
    "        # X[\"RainToday\"] = X[\"RainToday\"].map({\"Yes\": 1, \"No\": 0})\n",
    "\n",
    "        # Agrupar direcciones de viento\n",
    "        # X['WindGustDir'] = X['WindGustDir'].apply(self.agrupar_direcciones)\n",
    "        # X['WindDir9am'] = X['WindDir9am'].apply(self.agrupar_direcciones)\n",
    "        # X['WindDir3pm'] = X['WindDir3pm'].apply(self.agrupar_direcciones)\n",
    "\n",
    "        # Crear variables dummies para direcciones agrupadas\n",
    "        # X = pd.get_dummies(X, columns=['WindGustDir', 'WindDir9am', 'WindDir3pm'],\n",
    "        #                     drop_first=True)\n",
    "        # X.replace({True: 1, False: 0}, inplace=True)\n",
    "        \n",
    "        # Crear variables dummies para direcciones agrupadas\n",
    "        # dummies = pd.get_dummies(X, columns=['WindGustDir', 'WindDir9am', 'WindDir3pm'], drop_first=True)\n",
    "        # dummies = dummies[['WindGustDir_N', 'WindGustDir_S', 'WindGustDir_W', 'WindDir9am_N', 'WindDir9am_S', 'WindDir9am_W', 'WindDir3pm_N', 'WindDir3pm_S', 'WindDir3pm_W']]\n",
    "        # X = pd.concat([X, dummies], axis=1)\n",
    "        \n",
    "        # Calcular diferencia de temperatura máxima y mínima\n",
    "        # X['Dif_Temp_Max_Min'] = X['MaxTemp'] - X['MinTemp']\n",
    "        # X = X.drop(['MaxTemp', 'MinTemp'], axis=1)\n",
    "        \n",
    "        # Calcular diferencia de temperaturas 9am y 3pm\n",
    "        # X['Temp_Difference'] = X['Temp3pm'] - X['Temp9am']\n",
    "        # X = X.drop(['Temp3pm', 'Temp9am'], axis=1)\n",
    "        \n",
    "        # Eliminar columnas innecesarias\n",
    "        X = X.drop(['Date', 'Bimestre'], axis=1)\n",
    "        # X = X.drop(['Bimestre'], axis=1)\n",
    "        \n",
    "        return X\n",
    "    \n",
    "    def determinar_bimestre(self, fecha):\n",
    "        mes = fecha.month\n",
    "        if 1 <= mes <= 2:\n",
    "            return \"Bimestre 1\"\n",
    "        elif 3 <= mes <= 4:\n",
    "            return \"Bimestre 2\"\n",
    "        elif 5 <= mes <= 6:\n",
    "            return \"Bimestre 3\"\n",
    "        elif 7 <= mes <= 8:\n",
    "            return \"Bimestre 4\"\n",
    "        elif 9 <= mes <= 10:\n",
    "            return \"Bimestre 5\"\n",
    "        else:\n",
    "            return \"Bimestre 6\"\n",
    "    \n",
    "    def agrupar_direcciones(self, direccion):\n",
    "        grupos_principales = {\n",
    "            \"N\": [\"N\", \"NNW\", \"NNE\"],\n",
    "            \"S\": [\"S\", \"SSW\", \"SSE\"],\n",
    "            \"E\": [\"E\", \"ENE\", \"ESE\", \"SE\", \"NE\"],\n",
    "            \"W\": [\"W\", \"WNW\", \"WSW\", \"SW\", \"NW\"],\n",
    "        }\n",
    "        for grupo, direcciones in grupos_principales.items():\n",
    "            if direccion in direcciones:\n",
    "                return grupo\n",
    "        return \"Otro\"\n"
   ]
  },
  {
   "cell_type": "code",
   "execution_count": 732,
   "metadata": {},
   "outputs": [
    {
     "name": "stderr",
     "output_type": "stream",
     "text": [
      "c:\\Users\\Francisco\\Desktop\\AA1-TUIA-RodriguezYBarros\\env\\Lib\\site-packages\\keras\\src\\layers\\core\\dense.py:87: UserWarning: Do not pass an `input_shape`/`input_dim` argument to a layer. When using Sequential models, prefer using an `Input(shape)` object as the first layer in the model instead.\n",
      "  super().__init__(activity_regularizer=activity_regularizer, **kwargs)\n"
     ]
    }
   ],
   "source": [
    "# Crear el pipeline\n",
    "pipeline20 = Pipeline([\n",
    "    ('transform_data', TransformData20()),\n",
    "    # ('regression', LogisticRegression(random_state=42, class_weight='balanced'))\n",
    "    ('regression', NeuralNetworkTensorFlowOpt())\n",
    "])"
   ]
  },
  {
   "cell_type": "code",
   "execution_count": 733,
   "metadata": {},
   "outputs": [
    {
     "ename": "ValueError",
     "evalue": "Exception encountered when calling Sequential.call().\n\n\u001b[1mInput 0 of layer \"dense_12\" is incompatible with the layer: expected axis -1 of input shape to have value 17, but received input with shape (None, 16)\u001b[0m\n\nArguments received by Sequential.call():\n  • inputs=tf.Tensor(shape=(None, 16), dtype=float32)\n  • training=True\n  • mask=None",
     "output_type": "error",
     "traceback": [
      "\u001b[1;31m---------------------------------------------------------------------------\u001b[0m",
      "\u001b[1;31mValueError\u001b[0m                                Traceback (most recent call last)",
      "Cell \u001b[1;32mIn[733], line 2\u001b[0m\n\u001b[0;32m      1\u001b[0m \u001b[38;5;66;03m# Entrenar el pipeline\u001b[39;00m\n\u001b[1;32m----> 2\u001b[0m \u001b[43mpipeline20\u001b[49m\u001b[38;5;241;43m.\u001b[39;49m\u001b[43mfit\u001b[49m\u001b[43m(\u001b[49m\u001b[43mX\u001b[49m\u001b[43m,\u001b[49m\u001b[43m \u001b[49m\u001b[43my\u001b[49m\u001b[43m)\u001b[49m\n",
      "File \u001b[1;32mc:\\Users\\Francisco\\Desktop\\AA1-TUIA-RodriguezYBarros\\env\\Lib\\site-packages\\sklearn\\base.py:1474\u001b[0m, in \u001b[0;36m_fit_context.<locals>.decorator.<locals>.wrapper\u001b[1;34m(estimator, *args, **kwargs)\u001b[0m\n\u001b[0;32m   1467\u001b[0m     estimator\u001b[38;5;241m.\u001b[39m_validate_params()\n\u001b[0;32m   1469\u001b[0m \u001b[38;5;28;01mwith\u001b[39;00m config_context(\n\u001b[0;32m   1470\u001b[0m     skip_parameter_validation\u001b[38;5;241m=\u001b[39m(\n\u001b[0;32m   1471\u001b[0m         prefer_skip_nested_validation \u001b[38;5;129;01mor\u001b[39;00m global_skip_validation\n\u001b[0;32m   1472\u001b[0m     )\n\u001b[0;32m   1473\u001b[0m ):\n\u001b[1;32m-> 1474\u001b[0m     \u001b[38;5;28;01mreturn\u001b[39;00m \u001b[43mfit_method\u001b[49m\u001b[43m(\u001b[49m\u001b[43mestimator\u001b[49m\u001b[43m,\u001b[49m\u001b[43m \u001b[49m\u001b[38;5;241;43m*\u001b[39;49m\u001b[43margs\u001b[49m\u001b[43m,\u001b[49m\u001b[43m \u001b[49m\u001b[38;5;241;43m*\u001b[39;49m\u001b[38;5;241;43m*\u001b[39;49m\u001b[43mkwargs\u001b[49m\u001b[43m)\u001b[49m\n",
      "File \u001b[1;32mc:\\Users\\Francisco\\Desktop\\AA1-TUIA-RodriguezYBarros\\env\\Lib\\site-packages\\sklearn\\pipeline.py:475\u001b[0m, in \u001b[0;36mPipeline.fit\u001b[1;34m(self, X, y, **params)\u001b[0m\n\u001b[0;32m    473\u001b[0m     \u001b[38;5;28;01mif\u001b[39;00m \u001b[38;5;28mself\u001b[39m\u001b[38;5;241m.\u001b[39m_final_estimator \u001b[38;5;241m!=\u001b[39m \u001b[38;5;124m\"\u001b[39m\u001b[38;5;124mpassthrough\u001b[39m\u001b[38;5;124m\"\u001b[39m:\n\u001b[0;32m    474\u001b[0m         last_step_params \u001b[38;5;241m=\u001b[39m routed_params[\u001b[38;5;28mself\u001b[39m\u001b[38;5;241m.\u001b[39msteps[\u001b[38;5;241m-\u001b[39m\u001b[38;5;241m1\u001b[39m][\u001b[38;5;241m0\u001b[39m]]\n\u001b[1;32m--> 475\u001b[0m         \u001b[38;5;28;43mself\u001b[39;49m\u001b[38;5;241;43m.\u001b[39;49m\u001b[43m_final_estimator\u001b[49m\u001b[38;5;241;43m.\u001b[39;49m\u001b[43mfit\u001b[49m\u001b[43m(\u001b[49m\u001b[43mXt\u001b[49m\u001b[43m,\u001b[49m\u001b[43m \u001b[49m\u001b[43my\u001b[49m\u001b[43m,\u001b[49m\u001b[43m \u001b[49m\u001b[38;5;241;43m*\u001b[39;49m\u001b[38;5;241;43m*\u001b[39;49m\u001b[43mlast_step_params\u001b[49m\u001b[43m[\u001b[49m\u001b[38;5;124;43m\"\u001b[39;49m\u001b[38;5;124;43mfit\u001b[39;49m\u001b[38;5;124;43m\"\u001b[39;49m\u001b[43m]\u001b[49m\u001b[43m)\u001b[49m\n\u001b[0;32m    477\u001b[0m \u001b[38;5;28;01mreturn\u001b[39;00m \u001b[38;5;28mself\u001b[39m\n",
      "Cell \u001b[1;32mIn[730], line 26\u001b[0m, in \u001b[0;36mNeuralNetworkTensorFlowOpt.fit\u001b[1;34m(self, X, y)\u001b[0m\n\u001b[0;32m     24\u001b[0m X \u001b[38;5;241m=\u001b[39m np\u001b[38;5;241m.\u001b[39marray(X)\n\u001b[0;32m     25\u001b[0m y \u001b[38;5;241m=\u001b[39m np\u001b[38;5;241m.\u001b[39marray(y)\n\u001b[1;32m---> 26\u001b[0m \u001b[38;5;28mself\u001b[39m\u001b[38;5;241m.\u001b[39mhistory \u001b[38;5;241m=\u001b[39m \u001b[38;5;28;43mself\u001b[39;49m\u001b[38;5;241;43m.\u001b[39;49m\u001b[43mmodel\u001b[49m\u001b[38;5;241;43m.\u001b[39;49m\u001b[43mfit\u001b[49m\u001b[43m(\u001b[49m\u001b[43mX\u001b[49m\u001b[43m,\u001b[49m\u001b[43m \u001b[49m\u001b[43my\u001b[49m\u001b[43m,\u001b[49m\u001b[43m \u001b[49m\u001b[43mepochs\u001b[49m\u001b[38;5;241;43m=\u001b[39;49m\u001b[38;5;28;43mself\u001b[39;49m\u001b[38;5;241;43m.\u001b[39;49m\u001b[43mepochs\u001b[49m\u001b[43m,\u001b[49m\u001b[43m \u001b[49m\u001b[43mverbose\u001b[49m\u001b[38;5;241;43m=\u001b[39;49m\u001b[38;5;241;43m0\u001b[39;49m\u001b[43m)\u001b[49m\n\u001b[0;32m     27\u001b[0m \u001b[38;5;28;01mreturn\u001b[39;00m \u001b[38;5;28mself\u001b[39m\n",
      "File \u001b[1;32mc:\\Users\\Francisco\\Desktop\\AA1-TUIA-RodriguezYBarros\\env\\Lib\\site-packages\\keras\\src\\utils\\traceback_utils.py:122\u001b[0m, in \u001b[0;36mfilter_traceback.<locals>.error_handler\u001b[1;34m(*args, **kwargs)\u001b[0m\n\u001b[0;32m    119\u001b[0m     filtered_tb \u001b[38;5;241m=\u001b[39m _process_traceback_frames(e\u001b[38;5;241m.\u001b[39m__traceback__)\n\u001b[0;32m    120\u001b[0m     \u001b[38;5;66;03m# To get the full stack trace, call:\u001b[39;00m\n\u001b[0;32m    121\u001b[0m     \u001b[38;5;66;03m# `keras.config.disable_traceback_filtering()`\u001b[39;00m\n\u001b[1;32m--> 122\u001b[0m     \u001b[38;5;28;01mraise\u001b[39;00m e\u001b[38;5;241m.\u001b[39mwith_traceback(filtered_tb) \u001b[38;5;28;01mfrom\u001b[39;00m \u001b[38;5;28;01mNone\u001b[39;00m\n\u001b[0;32m    123\u001b[0m \u001b[38;5;28;01mfinally\u001b[39;00m:\n\u001b[0;32m    124\u001b[0m     \u001b[38;5;28;01mdel\u001b[39;00m filtered_tb\n",
      "File \u001b[1;32mc:\\Users\\Francisco\\Desktop\\AA1-TUIA-RodriguezYBarros\\env\\Lib\\site-packages\\keras\\src\\layers\\input_spec.py:227\u001b[0m, in \u001b[0;36massert_input_compatibility\u001b[1;34m(input_spec, inputs, layer_name)\u001b[0m\n\u001b[0;32m    222\u001b[0m     \u001b[38;5;28;01mfor\u001b[39;00m axis, value \u001b[38;5;129;01min\u001b[39;00m spec\u001b[38;5;241m.\u001b[39maxes\u001b[38;5;241m.\u001b[39mitems():\n\u001b[0;32m    223\u001b[0m         \u001b[38;5;28;01mif\u001b[39;00m value \u001b[38;5;129;01mis\u001b[39;00m \u001b[38;5;129;01mnot\u001b[39;00m \u001b[38;5;28;01mNone\u001b[39;00m \u001b[38;5;129;01mand\u001b[39;00m shape[axis] \u001b[38;5;129;01mnot\u001b[39;00m \u001b[38;5;129;01min\u001b[39;00m {\n\u001b[0;32m    224\u001b[0m             value,\n\u001b[0;32m    225\u001b[0m             \u001b[38;5;28;01mNone\u001b[39;00m,\n\u001b[0;32m    226\u001b[0m         }:\n\u001b[1;32m--> 227\u001b[0m             \u001b[38;5;28;01mraise\u001b[39;00m \u001b[38;5;167;01mValueError\u001b[39;00m(\n\u001b[0;32m    228\u001b[0m                 \u001b[38;5;124mf\u001b[39m\u001b[38;5;124m'\u001b[39m\u001b[38;5;124mInput \u001b[39m\u001b[38;5;132;01m{\u001b[39;00minput_index\u001b[38;5;132;01m}\u001b[39;00m\u001b[38;5;124m of layer \u001b[39m\u001b[38;5;124m\"\u001b[39m\u001b[38;5;132;01m{\u001b[39;00mlayer_name\u001b[38;5;132;01m}\u001b[39;00m\u001b[38;5;124m\"\u001b[39m\u001b[38;5;124m is \u001b[39m\u001b[38;5;124m'\u001b[39m\n\u001b[0;32m    229\u001b[0m                 \u001b[38;5;124mf\u001b[39m\u001b[38;5;124m\"\u001b[39m\u001b[38;5;124mincompatible with the layer: expected axis \u001b[39m\u001b[38;5;132;01m{\u001b[39;00maxis\u001b[38;5;132;01m}\u001b[39;00m\u001b[38;5;124m \u001b[39m\u001b[38;5;124m\"\u001b[39m\n\u001b[0;32m    230\u001b[0m                 \u001b[38;5;124mf\u001b[39m\u001b[38;5;124m\"\u001b[39m\u001b[38;5;124mof input shape to have value \u001b[39m\u001b[38;5;132;01m{\u001b[39;00mvalue\u001b[38;5;132;01m}\u001b[39;00m\u001b[38;5;124m, \u001b[39m\u001b[38;5;124m\"\u001b[39m\n\u001b[0;32m    231\u001b[0m                 \u001b[38;5;124m\"\u001b[39m\u001b[38;5;124mbut received input with \u001b[39m\u001b[38;5;124m\"\u001b[39m\n\u001b[0;32m    232\u001b[0m                 \u001b[38;5;124mf\u001b[39m\u001b[38;5;124m\"\u001b[39m\u001b[38;5;124mshape \u001b[39m\u001b[38;5;132;01m{\u001b[39;00mshape\u001b[38;5;132;01m}\u001b[39;00m\u001b[38;5;124m\"\u001b[39m\n\u001b[0;32m    233\u001b[0m             )\n\u001b[0;32m    234\u001b[0m \u001b[38;5;66;03m# Check shape.\u001b[39;00m\n\u001b[0;32m    235\u001b[0m \u001b[38;5;28;01mif\u001b[39;00m spec\u001b[38;5;241m.\u001b[39mshape \u001b[38;5;129;01mis\u001b[39;00m \u001b[38;5;129;01mnot\u001b[39;00m \u001b[38;5;28;01mNone\u001b[39;00m:\n",
      "\u001b[1;31mValueError\u001b[0m: Exception encountered when calling Sequential.call().\n\n\u001b[1mInput 0 of layer \"dense_12\" is incompatible with the layer: expected axis -1 of input shape to have value 17, but received input with shape (None, 16)\u001b[0m\n\nArguments received by Sequential.call():\n  • inputs=tf.Tensor(shape=(None, 16), dtype=float32)\n  • training=True\n  • mask=None"
     ]
    }
   ],
   "source": [
    "# Entrenar el pipeline\n",
    "pipeline20.fit(X, y)"
   ]
  },
  {
   "cell_type": "code",
   "execution_count": 670,
   "metadata": {},
   "outputs": [],
   "source": [
    "# Data\n",
    "data = {\n",
    "    'Date': ['2009-01-19'],    \n",
    "    'MinTemp': [21.],\n",
    "    'MaxTemp': [37.5], \n",
    "    'Rainfall': [0.0],\n",
    "    'Evaporation': [14.8],\n",
    "    'Sunshine': [6.9],\n",
    "    # 'WindGustDir': ['N'],  \n",
    "    'WindGustSpeed': [80.0],\n",
    "    # 'WindDir9am': ['N'], \n",
    "    # 'WindDir3pm': ['W'],  \n",
    "    'WindSpeed9am': [28.0],\n",
    "    'WindSpeed3pm': [19.0],\n",
    "    'Humidity9am': [50.0],\n",
    "    'Humidity3pm': [80.0],\n",
    "    'Pressure9am': [1013.1],\n",
    "    'Pressure3pm': [1009.6],\n",
    "    'Cloud9am': [7.0],\n",
    "    'Cloud3pm': [6.0],\n",
    "    'Temp9am': [26.2],\n",
    "    'Temp3pm': [34.1],\n",
    "    # 'RainToday': [1],\n",
    "    'Bimestre': ['Bimestre 1'],\n",
    "}\n",
    "\n",
    "fila = pd.DataFrame(data)\n",
    "fila['Date'] = pd.to_datetime(fila['Date'])\n",
    "# fila.replace({True: int(1), False: int(0)}, inplace=True)\n",
    "\n",
    "# # Crear variables dummies para direcciones agrupadas\n",
    "# # fila = pd.get_dummies(fila, columns=['WindGustDir', 'WindDir9am', 'WindDir3pm'],\n",
    "# #                     drop_first=True)\n",
    "# # fila.replace({True: 1, False: 0}, inplace=True)\n",
    "# # Crear variables dummies para direcciones agrupadas\n",
    "# dummies = pd.get_dummies(fila, columns=['WindGustDir', 'WindDir9am', 'WindDir3pm'],\n",
    "#                     drop_first=True)\n",
    "# # dummies = dummies[['WindGustDir_N', 'WindGustDir_S', 'WindGustDir_W', 'WindDir9am_N', 'WindDir9am_S', 'WindDir9am_W', 'WindDir3pm_N', 'WindDir3pm_S', 'WindDir3pm_W']]\n",
    "# # fila = pd.concat([fila, dummies], axis=1)"
   ]
  },
  {
   "cell_type": "code",
   "execution_count": 724,
   "metadata": {},
   "outputs": [
    {
     "name": "stdout",
     "output_type": "stream",
     "text": [
      "SHAPE X: (25041, 17)\n",
      "SHAPE DF_FILA: (1, 18)\n"
     ]
    }
   ],
   "source": [
    "print(\"SHAPE X:\", X.shape)\n",
    "print(\"SHAPE DF_FILA:\", fila.shape)"
   ]
  },
  {
   "cell_type": "code",
   "execution_count": 672,
   "metadata": {},
   "outputs": [],
   "source": [
    "# Predecir con el pipeline\n",
    "predictions = pipeline20.predict(fila)"
   ]
  },
  {
   "cell_type": "code",
   "execution_count": 673,
   "metadata": {},
   "outputs": [
    {
     "name": "stdout",
     "output_type": "stream",
     "text": [
      "['Yes']\n"
     ]
    }
   ],
   "source": [
    "print(predictions)"
   ]
  },
  {
   "cell_type": "code",
   "execution_count": null,
   "metadata": {},
   "outputs": [],
   "source": []
  }
 ],
 "metadata": {
  "kernelspec": {
   "display_name": "env",
   "language": "python",
   "name": "python3"
  },
  "language_info": {
   "codemirror_mode": {
    "name": "ipython",
    "version": 3
   },
   "file_extension": ".py",
   "mimetype": "text/x-python",
   "name": "python",
   "nbconvert_exporter": "python",
   "pygments_lexer": "ipython3",
   "version": "3.11.9"
  }
 },
 "nbformat": 4,
 "nbformat_minor": 2
}
